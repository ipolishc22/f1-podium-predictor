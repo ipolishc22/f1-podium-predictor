{
 "cells": [
  {
   "cell_type": "code",
   "execution_count": 1,
   "metadata": {},
   "outputs": [
    {
     "data": {
      "text/html": [
       "<div>\n",
       "<style scoped>\n",
       "    .dataframe tbody tr th:only-of-type {\n",
       "        vertical-align: middle;\n",
       "    }\n",
       "\n",
       "    .dataframe tbody tr th {\n",
       "        vertical-align: top;\n",
       "    }\n",
       "\n",
       "    .dataframe thead th {\n",
       "        text-align: right;\n",
       "    }\n",
       "</style>\n",
       "<table border=\"1\" class=\"dataframe\">\n",
       "  <thead>\n",
       "    <tr style=\"text-align: right;\">\n",
       "      <th></th>\n",
       "      <th>Driver</th>\n",
       "      <th>fp2_avg_lap</th>\n",
       "      <th>fp2_best_lap</th>\n",
       "      <th>fp2_total_laps</th>\n",
       "      <th>FastestQualiLap</th>\n",
       "      <th>QualiPosition</th>\n",
       "      <th>RacePosition</th>\n",
       "      <th>DNF</th>\n",
       "      <th>grand_prix</th>\n",
       "    </tr>\n",
       "  </thead>\n",
       "  <tbody>\n",
       "    <tr>\n",
       "      <th>0</th>\n",
       "      <td>ALB</td>\n",
       "      <td>92.966765</td>\n",
       "      <td>77.302</td>\n",
       "      <td>17</td>\n",
       "      <td>75.737</td>\n",
       "      <td>6</td>\n",
       "      <td>5</td>\n",
       "      <td>False</td>\n",
       "      <td>Australia</td>\n",
       "    </tr>\n",
       "    <tr>\n",
       "      <th>1</th>\n",
       "      <td>ALO</td>\n",
       "      <td>91.150048</td>\n",
       "      <td>77.330</td>\n",
       "      <td>21</td>\n",
       "      <td>76.288</td>\n",
       "      <td>12</td>\n",
       "      <td>21</td>\n",
       "      <td>True</td>\n",
       "      <td>Australia</td>\n",
       "    </tr>\n",
       "    <tr>\n",
       "      <th>2</th>\n",
       "      <td>ANT</td>\n",
       "      <td>85.246222</td>\n",
       "      <td>77.634</td>\n",
       "      <td>18</td>\n",
       "      <td>76.525</td>\n",
       "      <td>16</td>\n",
       "      <td>4</td>\n",
       "      <td>False</td>\n",
       "      <td>Australia</td>\n",
       "    </tr>\n",
       "    <tr>\n",
       "      <th>3</th>\n",
       "      <td>BOR</td>\n",
       "      <td>86.275188</td>\n",
       "      <td>77.847</td>\n",
       "      <td>16</td>\n",
       "      <td>76.516</td>\n",
       "      <td>15</td>\n",
       "      <td>21</td>\n",
       "      <td>True</td>\n",
       "      <td>Australia</td>\n",
       "    </tr>\n",
       "    <tr>\n",
       "      <th>4</th>\n",
       "      <td>DOO</td>\n",
       "      <td>91.787609</td>\n",
       "      <td>77.394</td>\n",
       "      <td>23</td>\n",
       "      <td>76.315</td>\n",
       "      <td>13</td>\n",
       "      <td>21</td>\n",
       "      <td>True</td>\n",
       "      <td>Australia</td>\n",
       "    </tr>\n",
       "  </tbody>\n",
       "</table>\n",
       "</div>"
      ],
      "text/plain": [
       "  Driver  fp2_avg_lap  fp2_best_lap  fp2_total_laps  FastestQualiLap  \\\n",
       "0    ALB    92.966765        77.302              17           75.737   \n",
       "1    ALO    91.150048        77.330              21           76.288   \n",
       "2    ANT    85.246222        77.634              18           76.525   \n",
       "3    BOR    86.275188        77.847              16           76.516   \n",
       "4    DOO    91.787609        77.394              23           76.315   \n",
       "\n",
       "   QualiPosition  RacePosition    DNF grand_prix  \n",
       "0              6             5  False  Australia  \n",
       "1             12            21   True  Australia  \n",
       "2             16             4  False  Australia  \n",
       "3             15            21   True  Australia  \n",
       "4             13            21   True  Australia  "
      ]
     },
     "execution_count": 1,
     "metadata": {},
     "output_type": "execute_result"
    }
   ],
   "source": [
    "import pandas as pd \n",
    "\n",
    "df = pd.read_csv(\"master_f1_dataset_2025_test.csv\")\n",
    "df.head()"
   ]
  },
  {
   "cell_type": "code",
   "execution_count": 2,
   "metadata": {},
   "outputs": [
    {
     "name": "stdout",
     "output_type": "stream",
     "text": [
      "is_podium_finish\n",
      "False    198\n",
      "True      36\n",
      "Name: count, dtype: int64\n"
     ]
    }
   ],
   "source": [
    "df[\"is_podium_finish\"] = df[\"RacePosition\"] <= 3\n",
    "print(df[\"is_podium_finish\"].value_counts())"
   ]
  },
  {
   "cell_type": "code",
   "execution_count": 3,
   "metadata": {},
   "outputs": [],
   "source": [
    "from sklearn.model_selection import train_test_split\n",
    "\n",
    "X = df.drop(columns=[\"RacePosition\", \"DNF\", \"grand_prix\", \"is_podium_finish\", \"Driver\"])\n",
    "y = df[\"is_podium_finish\"]\n",
    "\n",
    "X_train, X_test, y_train, y_test = train_test_split(X, y, test_size=0.2, random_state=22, stratify=y)"
   ]
  },
  {
   "cell_type": "code",
   "execution_count": 4,
   "metadata": {},
   "outputs": [
    {
     "name": "stdout",
     "output_type": "stream",
     "text": [
      "Index(['fp2_avg_lap', 'fp2_best_lap', 'fp2_total_laps', 'FastestQualiLap',\n",
      "       'QualiPosition'],\n",
      "      dtype='object')\n",
      "fp2_avg_lap        float64\n",
      "fp2_best_lap       float64\n",
      "fp2_total_laps       int64\n",
      "FastestQualiLap    float64\n",
      "QualiPosition        int64\n",
      "dtype: object\n"
     ]
    }
   ],
   "source": [
    "print(X.columns)\n",
    "print(X.dtypes)"
   ]
  },
  {
   "cell_type": "code",
   "execution_count": 5,
   "metadata": {},
   "outputs": [
    {
     "name": "stdout",
     "output_type": "stream",
     "text": [
      "              precision    recall  f1-score   support\n",
      "\n",
      "       False       0.91      1.00      0.95        40\n",
      "        True       1.00      0.43      0.60         7\n",
      "\n",
      "    accuracy                           0.91        47\n",
      "   macro avg       0.95      0.71      0.78        47\n",
      "weighted avg       0.92      0.91      0.90        47\n",
      "\n"
     ]
    },
    {
     "data": {
      "image/png": "[encoded data removed]",
      "text/plain": [
       "<Figure size 640x480 with 2 Axes>"
      ]
     },
     "metadata": {},
     "output_type": "display_data"
    }
   ],
   "source": [
    "from sklearn.ensemble import RandomForestClassifier\n",
    "from sklearn.metrics import classification_report, confusion_matrix\n",
    "import seaborn as sns \n",
    "import matplotlib.pyplot as plt \n",
    "\n",
    "model = RandomForestClassifier(random_state=22)\n",
    "model.fit(X_train,y_train)\n",
    "\n",
    "y_pred = model.predict(X_test)\n",
    "\n",
    "print(classification_report(y_test, y_pred))\n",
    "\n",
    "cm = confusion_matrix(y_test, y_pred)\n",
    "sns.heatmap(cm, annot=True, fmt='d', cmap=\"Blues\")\n",
    "plt.xlabel(\"Predicted\")\n",
    "plt.ylabel(\"Actual\")\n",
    "plt.title(\"Confusion Matrix - Podium Finish Prediction\")\n",
    "plt.show()"
   ]
  },
  {
   "cell_type": "code",
   "execution_count": 6,
   "metadata": {},
   "outputs": [
    {
     "name": "stdout",
     "output_type": "stream",
     "text": [
      "              precision    recall  f1-score   support\n",
      "\n",
      "       False       1.00      0.85      0.92        40\n",
      "        True       0.54      1.00      0.70         7\n",
      "\n",
      "    accuracy                           0.87        47\n",
      "   macro avg       0.77      0.93      0.81        47\n",
      "weighted avg       0.93      0.87      0.89        47\n",
      "\n"
     ]
    },
    {
     "data": {
      "text/plain": [
       "array([[34,  6],\n",
       "       [ 0,  7]])"
      ]
     },
     "execution_count": 6,
     "metadata": {},
     "output_type": "execute_result"
    }
   ],
   "source": [
    "from sklearn.linear_model import LogisticRegression\n",
    "\n",
    "log_model = LogisticRegression(class_weight='balanced', random_state=22)\n",
    "log_model.fit(X_train, y_train)\n",
    "y_pred_log = log_model.predict(X_test)\n",
    "\n",
    "print(classification_report(y_test, y_pred_log))\n",
    "confusion_matrix(y_test, y_pred_log)"
   ]
  },
  {
   "cell_type": "code",
   "execution_count": 11,
   "metadata": {},
   "outputs": [
    {
     "name": "stdout",
     "output_type": "stream",
     "text": [
      "Gradient Boosting Results:\n",
      "              precision    recall  f1-score   support\n",
      "\n",
      "       False       0.91      1.00      0.95        40\n",
      "        True       1.00      0.43      0.60         7\n",
      "\n",
      "    accuracy                           0.91        47\n",
      "   macro avg       0.95      0.71      0.78        47\n",
      "weighted avg       0.92      0.91      0.90        47\n",
      "\n"
     ]
    },
    {
     "data": {
      "image/png": "[encoded data removed]",
      "text/plain": [
       "<Figure size 640x480 with 2 Axes>"
      ]
     },
     "metadata": {},
     "output_type": "display_data"
    }
   ],
   "source": [
    "from sklearn.ensemble import GradientBoostingClassifier\n",
    "from sklearn.metrics import classification_report, confusion_matrix\n",
    "import seaborn as sns\n",
    "import matplotlib.pyplot as plt\n",
    "\n",
    "# Initialize the model\n",
    "gb_model = GradientBoostingClassifier(random_state=22)\n",
    "\n",
    "# Train the model\n",
    "gb_model.fit(X_train, y_train)\n",
    "\n",
    "# Make predictions\n",
    "y_pred_gb = gb_model.predict(X_test)\n",
    "\n",
    "# Print evaluation metrics\n",
    "print(\"Gradient Boosting Results:\")\n",
    "print(classification_report(y_test, y_pred_gb))\n",
    "\n",
    "# Confusion matrix\n",
    "cm = confusion_matrix(y_test, y_pred_gb)\n",
    "sns.heatmap(cm, annot=True, fmt='d', cmap=\"Purples\")\n",
    "plt.xlabel(\"Predicted\")\n",
    "plt.ylabel(\"Actual\")\n",
    "plt.title(\"Confusion Matrix – Podium Prediction (Gradient Boosting)\")\n",
    "plt.show()"
   ]
  }
 ],
 "metadata": {
  "kernelspec": {
   "display_name": "Python 3",
   "language": "python",
   "name": "python3"
  },
  "language_info": {
   "codemirror_mode": {
    "name": "ipython",
    "version": 3
   },
   "file_extension": ".py",
   "mimetype": "text/x-python",
   "name": "python",
   "nbconvert_exporter": "python",
   "pygments_lexer": "ipython3",
   "version": "3.12.5"
  },
  "orig_nbformat": 4
 },
 "nbformat": 4,
 "nbformat_minor": 2
}
