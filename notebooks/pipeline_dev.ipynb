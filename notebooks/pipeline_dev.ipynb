{
 "cells": [
  {
   "cell_type": "code",
   "execution_count": null,
   "metadata": {},
   "outputs": [],
   "source": [
    "import pandas as pd\n",
    "import fastf1ca"
   ]
  },
  {
   "cell_type": "code",
   "execution_count": null,
   "metadata": {},
   "outputs": [],
   "source": [
    "def extract_session_data(year: int, grand_prix_name: str, session_name: str, merge_weather=True):\n",
    "    session = fastf1.get_session(year, grand_prix_name, session_name)\n",
    "    session.load()\n",
    "\n",
    "    # load the laps information into the dataframe\n",
    "    laps_columns_to_keep = [\"Driver\", \"Stint\", \"Compound\", \"TyreLife\", \"LapStartTime_s\", \n",
    "                 \"LapTime_s\", \"TrackStatus\", \"SpeedFL\", \"SpeedI1\", \"SpeedI2\"]\n",
    "    laps_temp = session.laps.copy()\n",
    "    laps = laps_temp[laps_columns_to_keep]\n",
    "\n",
    "    # load the weather data into the dataframe \n",
    "    weather_columns_to_keep = [\"Time\",\"TrackTemp\"]\n",
    "    weather_temp = session.weather_data.copy()\n",
    "    weather = weather_temp[weather_columns_to_keep]\n",
    "    \n",
    "    # transforming laptime and lapstarttime to seconds instead of timedelta\n",
    "    laps['LapStartTime_s'] = laps['LapStartTime'].dt.total_seconds()\n",
    "    laps.drop(columns=[\"LapStartTime\"], inplace=True)\n",
    "    weather['Time_s'] = weather['Time'].dt.total_seconds()\n",
    "    weather.drop(columns=[\"Time\"], inplace=True)\n",
    "\n",
    "    laps = laps.sort_values(\"LapStartTime_s\")\n",
    "    weather = weather.sort_values(\"Time_s\")\n",
    "\n",
    "    laps[\"Session\"] = session_name.upper()\n",
    "\n",
    "    merged = pd.merge_asof(\n",
    "        laps,\n",
    "        weather,\n",
    "        left_on=\"LapStartTime_s\",\n",
    "        right_on=\"Time_s\",\n",
    "        direction=\"backward\"\n",
    "    )\n",
    "\n",
    "    return merged"
   ]
  },
  {
   "cell_type": "code",
   "execution_count": null,
   "metadata": {},
   "outputs": [],
   "source": [
    "def clean_session_data(laps: pd.DataFrame):\n",
    "\n",
    "    laps = laps.copy()\n",
    "\n",
    "    clean_laps = laps[\n",
    "    (laps[\"IsAccurate\"] == True) &\n",
    "    (laps[\"LapTime\"].notna()) &\n",
    "    (laps[\"SpeedFL\"].notna()) \n",
    "    ]\n",
    "\n",
    "    return clean_laps"
   ]
  }
 ],
 "metadata": {
  "language_info": {
   "name": "python"
  },
  "orig_nbformat": 4
 },
 "nbformat": 4,
 "nbformat_minor": 2
}
